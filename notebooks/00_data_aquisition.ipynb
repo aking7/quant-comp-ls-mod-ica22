{
 "cells": [
  {
   "cell_type": "markdown",
   "metadata": {},
   "source": [
    "This notebook documents the data aquisistion. Results are gathered in `raw_measurements.hdf5`."
   ]
  },
  {
   "cell_type": "code",
   "execution_count": null,
   "metadata": {},
   "outputs": [],
   "source": [
    "%load_ext autoreload\n",
    "%autoreload 2\n",
    "\n",
    "import librosa\n",
    "import numpy as np\n",
    "import matplotlib.pyplot as plt\n",
    "import scipy.signal as sig\n",
    "import h5py\n",
    "from pathlib import Path\n",
    "from tqdm.notebook import tqdm\n",
    "\n",
    "import os\n",
    "import sys\n",
    "sys.path.insert(0, os.path.abspath(os.path.dirname(os.getcwd())))  # add src module to path\n",
    "from src.measurement import (_post_process_signal, exponential_sweep, pink_noise, multitone, playrec)\n",
    "from src.util import  raw_encode\n",
    "\n",
    "T = 10  # excitation duration\n",
    "sr = 96000  # sample rate \n",
    "nperseg = 2**14  # window length\n",
    "\n",
    "def volt_to_quant(x, shunt_resistance=0.5, voltage_devider=5, velocity_sensitivity=1):\n",
    "  \"\"\"Convert line level to measurement quantities.\"\"\"\n",
    "  return x * np.array([voltage_devider, velocity_sensitivity, 1/shunt_resistance])\n",
    "\n",
    "def make_signals():\n",
    "  np.random.seed(42)\n",
    "  f_end = 10000\n",
    "  t = np.arange(T*sr)/sr\n",
    "  sigs = [\n",
    "    (\"zeros\", None, np.zeros(sr*T)),\n",
    "    (\"sweepup\", None, exponential_sweep(T, sr, f_end=f_end, rms=1, fade=0.5, post_silence=0.5)),\n",
    "    (\"mtone\", *multitone(T, sr, octave_fraction=1/3, f_end=f_end, nperseg=nperseg, rms = 1)),\n",
    "    (\"pink10-10k_1\", None, pink_noise(T, sr, bandpass=(10, f_end), rms=1, fade=0.01, post_silence=0.1)),\n",
    "    (\"pink10-10k_2\", None, pink_noise(T, sr, bandpass=(10, f_end), rms=1, fade=0.01, post_silence=0.1)),\n",
    "    (\"way_down\", None, _post_process_signal(librosa.load(\"../data/samples/way_down_deep.wav\",\n",
    "                                                        sr=sr, duration=T)[0], \n",
    "                                                        sr, rms=1, fade=0.01, post_silence=0.1)),\n",
    "  ]\n",
    "  return sigs\n",
    "\n",
    "sigs = make_signals()\n",
    "\n",
    "measurement_folder = Path(\"../data\")\n",
    "db_measurements_path = measurement_folder / \"raw_measurements.hdf5\"\n",
    "db_excitation_path = measurement_folder / \"excitations.hdf5\"\n",
    "\n",
    "# start fresh\n",
    "with h5py.File(db_excitation_path, \"w\") as f:\n",
    "  for (name, aux, u) in sigs:\n",
    "    sig_grp = f.create_group(name)\n",
    "    sig_grp['u'] = u\n",
    "    sig_grp.attrs['sr'] = sr\n",
    "    sig_grp['aux_encoded'] = raw_encode(aux)"
   ]
  },
  {
   "cell_type": "markdown",
   "metadata": {},
   "source": [
    "All signals we will test"
   ]
  },
  {
   "cell_type": "code",
   "execution_count": null,
   "metadata": {},
   "outputs": [],
   "source": [
    "def signal_summary(sigs, window='boxcar'):\n",
    "  flim = (20, sr/2)\n",
    "  nsig = len(sigs)\n",
    "  fig, ax = plt.subplots(nrows=nsig, ncols=3, sharex='col', figsize=(10, nsig*1))\n",
    "  for i, (name, freqs, x) in enumerate(sigs):\n",
    "    f, s = sig.welch(x, sr, window=window, nperseg=nperseg, detrend=False)\n",
    "    ax[i, 0].plot(f, 10*np.log10(s)+1e-16)\n",
    "    ax[i, 0].set_ylabel(name, rotation='horizontal', ha='right', size=14)\n",
    "    ax[i, 0].set_xscale(\"log\")\n",
    "    ax[i, 0].set_ylim(-100, 3)\n",
    "    ax[i, 0].set_xlim(flim)\n",
    "    f, t, S = sig.spectrogram(x, sr, nperseg=nperseg, window=window, nfft=nperseg)\n",
    "    ax[i, 1].pcolormesh(f[1:], t, 10*np.log10(S[1:].T+1e-16), vmax=0, vmin=-100, rasterized=True)\n",
    "    ax[i, 1].set_xscale(\"log\")\n",
    "    ax[i, 1].set_xlim(flim)\n",
    "    ax[i, 2].hist(x, bins=100, density=True)\n",
    "\n",
    "    ax[i, 0].tick_params(bottom=False, left=False)\n",
    "    ax[i, 1].tick_params(bottom=False, left=False)\n",
    "    ax[i, 2].tick_params(bottom=False, left=False)\n",
    "\n",
    "    if i != len(sigs) - 1:\n",
    "      ax[i, 0].set(yticklabels=[], xticklabels=[])\n",
    "      ax[i, 1].set(yticklabels=[], xticklabels=[])\n",
    "      ax[i, 2].set(yticklabels=[], xticklabels=[])\n",
    "\n",
    "  ax[-1, 0].tick_params(bottom=True, left=False)\n",
    "  ax[-1, 1].tick_params(bottom=True, left=False)\n",
    "  ax[-1, 2].tick_params(bottom=True, left=False)\n",
    "\n",
    "  ax[0, 0].set_title(\"Spectrum\")\n",
    "  ax[0, 1].set_title(\"Spectrogram\")\n",
    "  ax[0, 2].set_title(\"Histogram\")\n",
    "\n",
    "signal_summary(sigs, 'boxcar')\n",
    "plt.tight_layout()\n",
    "plt.subplots_adjust(left=None, bottom=None, right=None, top=None, wspace=0.05, hspace=0.05)"
   ]
  },
  {
   "cell_type": "markdown",
   "metadata": {},
   "source": [
    "Measure noise floor"
   ]
  },
  {
   "cell_type": "code",
   "execution_count": null,
   "metadata": {},
   "outputs": [],
   "source": [
    "T = 5\n",
    "indata = np.zeros(sr*T)\n",
    "outdata = volt_to_quant(playrec(indata, sr))\n",
    "t = np.arange(len(outdata))/sr\n",
    "plt.plot(t, outdata)\n",
    "plt.xlabel('Time [s]')\n",
    "plt.legend([\"Voltage after devider [V]\", \"Velocity [m/s]\", \"Current through shunt [A]\"])"
   ]
  },
  {
   "cell_type": "markdown",
   "metadata": {},
   "source": [
    "Check polarity (Velocity and current should start in positive direction)"
   ]
  },
  {
   "cell_type": "code",
   "execution_count": null,
   "metadata": {},
   "outputs": [],
   "source": [
    "T = 0.5\n",
    "t = np.arange(int(T*sr))/sr\n",
    "f = 0.5 * 1/T\n",
    "indata = 0.1*np.sin(2*np.pi*f*t)\n",
    "outdata = volt_to_quant(playrec(indata, sr))\n",
    "plt.plot(t, outdata/np.max(outdata, axis=0))\n",
    "plt.xlabel('Time [s]')\n",
    "plt.ylabel('Quant a.u.')\n",
    "plt.legend([\"Voltage after devider\", \"Velocity\", \"Current through shunt\"])"
   ]
  },
  {
   "cell_type": "markdown",
   "metadata": {},
   "source": [
    "Measure amplifier gain"
   ]
  },
  {
   "cell_type": "code",
   "execution_count": null,
   "metadata": {},
   "outputs": [],
   "source": [
    "T = 1\n",
    "navg = 1\n",
    "t = np.arange(0, T*sr) / sr\n",
    "f = 1000\n",
    "win = sig.windows.hann(len(t))\n",
    "signal = np.sin(2*np.pi*f*t)\n",
    "signal = np.random.normal(size=len(t))\n",
    "signal *= np.hanning(len(signal))\n",
    "\n",
    "amps = np.repeat(np.arange(0.01, 0.4, 0.04), navg)\n",
    "np.random.shuffle(amps)  # NOTE: NI card starting is makes some funny results\n",
    "amps = np.concatenate(([0], amps))\n",
    "outrms = np.zeros(amps.size)\n",
    "inrms = np.zeros(amps.size) \n",
    "gains = np.zeros(amps.size)\n",
    "for i, amp in enumerate(amps):\n",
    "    outdata = amp * signal     \n",
    "    indata = volt_to_quant(playrec(outdata, sr))[:, 0]\n",
    "    outrms[i] = np.std(outdata)\n",
    "    inrms[i] = np.std(indata)\n",
    "    gains[i] = inrms[i]/outrms[i]\n",
    "    print(\"amp:\", amp, \"gain:\", gains[i])\n",
    "\n",
    "meas_amp_gain = np.mean(gains[1:])\n",
    "amp_gain = 22\n",
    "print(\"meas amp_gain\", meas_amp_gain)\n",
    "print(\"fix amp_gain\", amp_gain)\n"
   ]
  },
  {
   "cell_type": "code",
   "execution_count": null,
   "metadata": {},
   "outputs": [],
   "source": [
    "plt.figure()\n",
    "plt.plot(outrms[1:], inrms[1:], 'x')\n",
    "plt.xlabel('Digital RMS')\n",
    "plt.ylabel('Voltage RMS');\n",
    "\n",
    "plt.figure()\n",
    "plt.plot(amps[1:], gains[1:], 'x')  # Note, NI card starting is makes some funny results\n",
    "plt.xlabel('Digital RMS')\n",
    "plt.ylabel('Gain');"
   ]
  },
  {
   "cell_type": "markdown",
   "metadata": {},
   "source": [
    "Test rms range"
   ]
  },
  {
   "cell_type": "code",
   "execution_count": null,
   "metadata": {},
   "outputs": [],
   "source": [
    "max_rms_volts = 4\n",
    "levels = 1/np.array([1, 2, 4, 8])\n",
    "gains = [max_rms_volts * level / amp_gain for level in levels]\n",
    "\n",
    "T = 3\n",
    "u_amp_est = pink_noise(T, sr, bandpass=(10, 10000), rms=1, fade=0.01)\n",
    "\n",
    "for rms in max_rms_volts * levels[:1]:\n",
    "    gain = rms / amp_gain\n",
    "    u_out = u_amp_est * gain\n",
    "    indata = playrec(u_out, sr, input_mapping=['Dev2/ai0', 'Dev2/ai1', 'Dev2/ai2'])\n",
    "    u, v, i = volt_to_quant(indata).T\n",
    "    power = (u*i*1/sr).sum()/T\n",
    "    print(f\"u_rms: {u.std():.2f} V, i_rms: {i.std():.2f} A, power: {power:.2f} W, NI Vmax: {np.max(np.abs(indata), axis=0)}\")"
   ]
  },
  {
   "cell_type": "markdown",
   "metadata": {},
   "source": [
    "Measurement"
   ]
  },
  {
   "cell_type": "code",
   "execution_count": null,
   "metadata": {},
   "outputs": [],
   "source": [
    "from pathlib import Path\n",
    "from time import sleep\n",
    "from datetime import datetime\n",
    "\n",
    "pause_between_measurements = 1\n",
    "num_reps = 5\n",
    "driver_name = '3LBR-B004-04'\n",
    "dset_opt = dict(dtype=np.float32, compression='gzip')\n",
    "\n",
    "with (h5py.File(db_excitation_path, \"r\") as db_excitations,\n",
    "      h5py.File(db_measurements_path, \"a\") as db_measurements):\n",
    "\n",
    "  # save some metadata do measurement\n",
    "  meas_ls_grp = db_measurements.create_group(driver_name)\n",
    "  \n",
    "  # FINISH HERE WITH ALL THESE GROUPS\n",
    "  zeros_done = False\n",
    "  for sig_name in tqdm(db_excitations):\n",
    "    u_out_before_gain = db_excitations[sig_name]['u']\n",
    "    num_samples = len(u_out_before_gain)\n",
    "    num_levels = len(levels)\n",
    "\n",
    "    meas_ls_sig_grp = meas_ls_grp.create_group(sig_name)\n",
    "    meas_ls_sig_grp.create_dataset('u_out_before_gain', data=u_out_before_gain, **dset_opt)\n",
    "    meas_ls_sig_grp.attrs['levels'] = levels\n",
    "    meas_ls_sig_grp.attrs['gains'] = gains\n",
    "    meas_ls_sig_grp.attrs['max_rms_volts'] = max_rms_volts\n",
    "    meas_ls_sig_grp.attrs['pause_between_measurements'] = pause_between_measurements\n",
    "    meas_ls_sig_grp.attrs['amp_gain'] = amp_gain\n",
    "    meas_ls_sig_grp.attrs['meas_amp_gain'] = meas_amp_gain\n",
    "    meas_ls_sig_grp.attrs['datetime'] = datetime.now().isoformat()\n",
    "\n",
    "    if sig_name != 'zeros':\n",
    "      shape = (3, num_samples, num_levels, num_reps)\n",
    "    else:\n",
    "      shape = (3, num_samples, 1, 1)\n",
    "    dset = meas_ls_sig_grp.create_dataset('rec', shape=shape, **dset_opt)\n",
    "\n",
    "    gains = [max_rms_volts * level / amp_gain for level in levels]\n",
    "    for l, (level, gain) in enumerate(zip(levels, gains)):\n",
    "      u_out = u_out_before_gain * gain\n",
    "      for r in tqdm(range(num_reps), leave=False):\n",
    "        # playback and record\n",
    "        indata = playrec(u_out, sr, input_mapping=['Dev2/ai0', 'Dev2/ai1', 'Dev2/ai2'])\n",
    "        u, v, i = volt_to_quant(indata).T\n",
    "        dset[:, :, l, r] = np.stack((u, i, v), axis=0)\n",
    "        print(f\"u_rms: {u.std():.2f} V, i_rms: {i.std():.2f} A, power: {(u*i*1/sr).sum()/T:.2f} W, NI Vmax: {np.max(np.abs(indata), axis=0)}\")\n",
    "        if sig_name == 'zeros': break\n",
    "      if sig_name == 'zeros': break\n",
    "          \n",
    "      print(f\"recorded {sig_name} at level {level}\")\n",
    "      sleep(pause_between_measurements)\n",
    "    "
   ]
  }
 ],
 "metadata": {
  "kernelspec": {
   "display_name": "Python 3.10.5 ('mod_comp')",
   "language": "python",
   "name": "python3"
  },
  "language_info": {
   "codemirror_mode": {
    "name": "ipython",
    "version": 3
   },
   "file_extension": ".py",
   "mimetype": "text/x-python",
   "name": "python",
   "nbconvert_exporter": "python",
   "pygments_lexer": "ipython3",
   "version": "3.10.5"
  },
  "orig_nbformat": 4,
  "vscode": {
   "interpreter": {
    "hash": "593761601afbbda49f68c486b46ec2bca36f4c4b45ddfd4b95735765cf2bf97e"
   }
  }
 },
 "nbformat": 4,
 "nbformat_minor": 2
}
