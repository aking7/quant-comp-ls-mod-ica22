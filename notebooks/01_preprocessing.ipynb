{
 "cells": [
  {
   "cell_type": "code",
   "execution_count": 37,
   "metadata": {},
   "outputs": [],
   "source": [
    "from pathlib import Path \n",
    "import numpy as np\n",
    "import h5py\n",
    "\n",
    "measurements_path = Path(\"../data/measurements.hdf5\")\n",
    "processed_path = Path(\"../data/processed.hdf5\")\n",
    "\n",
    "dset_opt = dict(dtype=np.float32, compression='gzip')\n",
    "\n",
    "with (h5py.File(processed_path, \"w\") as db_processed,\n",
    "      h5py.File(measurements_path, \"r\") as db_measurements):\n",
    "  for driver in db_measurements:\n",
    "    print(driver)\n",
    "    db_processed.create_group(driver)\n",
    "\n",
    "    zero_grp = db_measurements[driver]['zeros']\n",
    "    sig0 = zero_grp['rec'][:, :, 0, 0]\n",
    "    means = sig0.mean(axis=1)\n",
    "    stds = sig0.std(axis=1)\n",
    "\n",
    "    gen = (signame for signame in db_measurements[driver] if signame != 'zeros')\n",
    "    for signame in gen:\n",
    "      meas_sig_grp = db_measurements[driver][signame]\n",
    "      proc_sig_grp = db_processed[driver].create_group(signame)\n",
    "      \n",
    "      proc_sig_grp.create_dataset(\n",
    "        \"rec\", data=np.median(meas_sig_grp['rec'], axis=-1) - means[:, None, None], \n",
    "        **dset_opt)\n",
    "      proc_sig_grp.attrs['levels'] = meas_sig_grp.attrs['levels']\n",
    "      proc_sig_grp.attrs['sr'] = meas_sig_grp.attrs['sr']\n",
    "\n",
    "      print(signame)"
   ]
  }
 ],
 "metadata": {
  "kernelspec": {
   "display_name": "Python 3.10.5 ('mod_comp')",
   "language": "python",
   "name": "python3"
  },
  "language_info": {
   "codemirror_mode": {
    "name": "ipython",
    "version": 3
   },
   "file_extension": ".py",
   "mimetype": "text/x-python",
   "name": "python",
   "nbconvert_exporter": "python",
   "pygments_lexer": "ipython3",
   "version": "3.10.5"
  },
  "orig_nbformat": 4,
  "vscode": {
   "interpreter": {
    "hash": "593761601afbbda49f68c486b46ec2bca36f4c4b45ddfd4b95735765cf2bf97e"
   }
  }
 },
 "nbformat": 4,
 "nbformat_minor": 2
}
